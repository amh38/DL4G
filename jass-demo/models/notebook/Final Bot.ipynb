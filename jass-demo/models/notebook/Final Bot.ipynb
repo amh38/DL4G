{
 "cells": [
  {
   "cell_type": "markdown",
   "metadata": {},
   "source": [
    "# Implementation of a ML Network to learn playing Jass"
   ]
  },
  {
   "cell_type": "markdown",
   "metadata": {},
   "source": [
    "## Libraries"
   ]
  },
  {
   "cell_type": "code",
   "execution_count": 1,
   "metadata": {},
   "outputs": [],
   "source": [
    "import numpy as np\n",
    "import tensorflow as tf\n",
    "from tensorflow import keras\n",
    "import matplotlib.pyplot as plt\n",
    "import pandas as pd\n",
    "from pathlib import Path"
   ]
  },
  {
   "cell_type": "markdown",
   "metadata": {},
   "source": [
    "## Play card ML"
   ]
  },
  {
   "cell_type": "markdown",
   "metadata": {},
   "source": [
    "### Data import "
   ]
  },
  {
   "cell_type": "code",
   "execution_count": 2,
   "metadata": {},
   "outputs": [
    {
     "data": {
      "text/html": [
       "<div>\n",
       "<style scoped>\n",
       "    .dataframe tbody tr th:only-of-type {\n",
       "        vertical-align: middle;\n",
       "    }\n",
       "\n",
       "    .dataframe tbody tr th {\n",
       "        vertical-align: top;\n",
       "    }\n",
       "\n",
       "    .dataframe thead th {\n",
       "        text-align: right;\n",
       "    }\n",
       "</style>\n",
       "<table border=\"1\" class=\"dataframe\">\n",
       "  <thead>\n",
       "    <tr style=\"text-align: right;\">\n",
       "      <th></th>\n",
       "      <th>0</th>\n",
       "      <th>1</th>\n",
       "      <th>2</th>\n",
       "      <th>3</th>\n",
       "      <th>4</th>\n",
       "      <th>5</th>\n",
       "      <th>6</th>\n",
       "      <th>7</th>\n",
       "      <th>8</th>\n",
       "      <th>9</th>\n",
       "      <th>...</th>\n",
       "      <th>182</th>\n",
       "      <th>183</th>\n",
       "      <th>184</th>\n",
       "      <th>185</th>\n",
       "      <th>186</th>\n",
       "      <th>187</th>\n",
       "      <th>188</th>\n",
       "      <th>189</th>\n",
       "      <th>190</th>\n",
       "      <th>191</th>\n",
       "    </tr>\n",
       "  </thead>\n",
       "  <tbody>\n",
       "    <tr>\n",
       "      <th>0</th>\n",
       "      <td>0</td>\n",
       "      <td>0</td>\n",
       "      <td>0</td>\n",
       "      <td>0</td>\n",
       "      <td>0</td>\n",
       "      <td>0</td>\n",
       "      <td>0</td>\n",
       "      <td>0</td>\n",
       "      <td>0</td>\n",
       "      <td>0</td>\n",
       "      <td>...</td>\n",
       "      <td>0</td>\n",
       "      <td>0</td>\n",
       "      <td>0</td>\n",
       "      <td>0</td>\n",
       "      <td>0</td>\n",
       "      <td>0</td>\n",
       "      <td>0</td>\n",
       "      <td>0</td>\n",
       "      <td>0</td>\n",
       "      <td>18</td>\n",
       "    </tr>\n",
       "    <tr>\n",
       "      <th>1</th>\n",
       "      <td>0</td>\n",
       "      <td>0</td>\n",
       "      <td>0</td>\n",
       "      <td>0</td>\n",
       "      <td>0</td>\n",
       "      <td>0</td>\n",
       "      <td>0</td>\n",
       "      <td>0</td>\n",
       "      <td>0</td>\n",
       "      <td>0</td>\n",
       "      <td>...</td>\n",
       "      <td>0</td>\n",
       "      <td>0</td>\n",
       "      <td>0</td>\n",
       "      <td>0</td>\n",
       "      <td>0</td>\n",
       "      <td>0</td>\n",
       "      <td>0</td>\n",
       "      <td>0</td>\n",
       "      <td>0</td>\n",
       "      <td>25</td>\n",
       "    </tr>\n",
       "    <tr>\n",
       "      <th>2</th>\n",
       "      <td>0</td>\n",
       "      <td>0</td>\n",
       "      <td>0</td>\n",
       "      <td>0</td>\n",
       "      <td>0</td>\n",
       "      <td>0</td>\n",
       "      <td>0</td>\n",
       "      <td>0</td>\n",
       "      <td>0</td>\n",
       "      <td>0</td>\n",
       "      <td>...</td>\n",
       "      <td>0</td>\n",
       "      <td>0</td>\n",
       "      <td>0</td>\n",
       "      <td>0</td>\n",
       "      <td>0</td>\n",
       "      <td>0</td>\n",
       "      <td>0</td>\n",
       "      <td>0</td>\n",
       "      <td>0</td>\n",
       "      <td>20</td>\n",
       "    </tr>\n",
       "    <tr>\n",
       "      <th>3</th>\n",
       "      <td>0</td>\n",
       "      <td>0</td>\n",
       "      <td>0</td>\n",
       "      <td>0</td>\n",
       "      <td>0</td>\n",
       "      <td>0</td>\n",
       "      <td>0</td>\n",
       "      <td>0</td>\n",
       "      <td>0</td>\n",
       "      <td>0</td>\n",
       "      <td>...</td>\n",
       "      <td>0</td>\n",
       "      <td>0</td>\n",
       "      <td>0</td>\n",
       "      <td>0</td>\n",
       "      <td>0</td>\n",
       "      <td>0</td>\n",
       "      <td>0</td>\n",
       "      <td>0</td>\n",
       "      <td>0</td>\n",
       "      <td>19</td>\n",
       "    </tr>\n",
       "    <tr>\n",
       "      <th>4</th>\n",
       "      <td>0</td>\n",
       "      <td>0</td>\n",
       "      <td>0</td>\n",
       "      <td>0</td>\n",
       "      <td>0</td>\n",
       "      <td>0</td>\n",
       "      <td>0</td>\n",
       "      <td>0</td>\n",
       "      <td>0</td>\n",
       "      <td>0</td>\n",
       "      <td>...</td>\n",
       "      <td>0</td>\n",
       "      <td>0</td>\n",
       "      <td>0</td>\n",
       "      <td>0</td>\n",
       "      <td>0</td>\n",
       "      <td>0</td>\n",
       "      <td>0</td>\n",
       "      <td>0</td>\n",
       "      <td>0</td>\n",
       "      <td>23</td>\n",
       "    </tr>\n",
       "  </tbody>\n",
       "</table>\n",
       "<p>5 rows × 192 columns</p>\n",
       "</div>"
      ],
      "text/plain": [
       "   0    1    2    3    4    5    6    7    8    9   ...   182  183  184  185  \\\n",
       "0    0    0    0    0    0    0    0    0    0    0 ...     0    0    0    0   \n",
       "1    0    0    0    0    0    0    0    0    0    0 ...     0    0    0    0   \n",
       "2    0    0    0    0    0    0    0    0    0    0 ...     0    0    0    0   \n",
       "3    0    0    0    0    0    0    0    0    0    0 ...     0    0    0    0   \n",
       "4    0    0    0    0    0    0    0    0    0    0 ...     0    0    0    0   \n",
       "\n",
       "   186  187  188  189  190  191  \n",
       "0    0    0    0    0    0   18  \n",
       "1    0    0    0    0    0   25  \n",
       "2    0    0    0    0    0   20  \n",
       "3    0    0    0    0    0   19  \n",
       "4    0    0    0    0    0   23  \n",
       "\n",
       "[5 rows x 192 columns]"
      ]
     },
     "execution_count": 2,
     "metadata": {},
     "output_type": "execute_result"
    }
   ],
   "source": [
    "path_to_data = Path(\"/Users/flaviolazzarini/Documents/HSLU/2018HS/DL4G/DL4G_final/jass-demo/data/csv\")\n",
    "# Import only a fraction of data for efficient testing\n",
    "data1 = pd.read_csv(path_to_data / 'MLAI_0-0_log.csv', header=None)\n",
    "data2 = pd.read_csv(path_to_data / 'MLAI_1-0_log.csv', header=None)\n",
    "data3 = pd.read_csv(path_to_data / 'MLAI_2-0_log.csv', header=None)\n",
    "data4 = pd.read_csv(path_to_data / 'MLAI_3-0_log.csv', header=None)\n",
    "data5 = pd.read_csv(path_to_data / 'MLAI_4-0_log.csv', header=None)\n",
    "data6 = pd.read_csv(path_to_data / 'MLAI_5-0_log.csv', header=None)\n",
    "data7 = pd.read_csv(path_to_data / 'MLAI_6-0_log.csv', header=None)\n",
    "data8 = pd.read_csv(path_to_data / 'MLAI_7-0_log.csv', header=None)\n",
    "data9 = pd.read_csv(path_to_data / 'MLAI_8-0_log.csv', header=None)\n",
    "data10 = pd.read_csv(path_to_data / 'MLAI_9-0_log.csv', header=None)\n",
    "data11 = pd.read_csv(path_to_data / 'MLAI_10-0_log.csv', header=None)\n",
    "data = pd.concat([data1,data2, data3, data4, data5, data6, data7, data8, data9, data10, data11],axis=0, ignore_index=True)\n",
    "data.head()"
   ]
  },
  {
   "cell_type": "markdown",
   "metadata": {},
   "source": [
    "### Train & Test split"
   ]
  },
  {
   "cell_type": "code",
   "execution_count": 3,
   "metadata": {},
   "outputs": [
    {
     "name": "stdout",
     "output_type": "stream",
     "text": [
      "         0    1    2    3    4    5    6    7    8    9   ...   181  182  183  \\\n",
      "1198670    0    0    0    0    0    0    0    0    1    1 ...     0    0    0   \n",
      "903669     1    1    1    1    1    1    1    1    1    1 ...     0    0    0   \n",
      "876483     1    0    1    0    0    0    0    0    0    1 ...     0    0    0   \n",
      "2575945    0    0    0    0    0    0    0    0    0    0 ...     0    0    0   \n",
      "1383711    0    0    0    0    1    0    0    1    0    1 ...     0    0    0   \n",
      "2220028    0    0    0    0    0    0    1    1    1    1 ...     0    0    0   \n",
      "990151     1    0    0    1    1    0    0    1    0    0 ...     0    0    0   \n",
      "299050     1    1    1    1    1    1    1    1    1    1 ...     0    0    0   \n",
      "1560430    0    0    0    0    0    0    0    0    1    0 ...     0    0    0   \n",
      "2043771    1    0    0    0    1    1    0    1    0    0 ...     0    0    0   \n",
      "2400669    0    0    0    0    0    0    0    0    0    0 ...     0    0    0   \n",
      "2353598    1    1    0    1    1    1    0    1    1    0 ...     0    0    0   \n",
      "417375     1    1    0    1    1    1    1    1    1    1 ...     0    0    0   \n",
      "664865     1    0    0    0    1    1    0    0    0    1 ...     0    0    0   \n",
      "1226278    0    0    0    0    0    0    0    0    0    0 ...     0    0    0   \n",
      "1169658    0    0    0    1    0    1    0    1    1    1 ...     0    0    0   \n",
      "2134660    1    1    0    0    0    0    0    0    1    0 ...     0    0    0   \n",
      "2367408    0    0    1    0    0    0    1    1    1    0 ...     0    0    0   \n",
      "1251123    1    1    1    1    0    1    0    1    1    1 ...     0    0    0   \n",
      "1839208    0    0    0    0    0    0    0    0    0    0 ...     0    0    0   \n",
      "2110345    1    1    1    1    1    1    1    1    1    1 ...     0    0    0   \n",
      "728026     1    0    1    1    1    1    0    1    1    1 ...     0    0    0   \n",
      "783329     0    0    0    0    0    0    0    0    0    0 ...     0    0    0   \n",
      "25466      0    0    1    0    0    1    0    0    1    0 ...     0    0    0   \n",
      "2493300    0    0    0    0    0    0    0    0    0    1 ...     0    0    0   \n",
      "1893702    1    0    1    1    1    0    1    1    1    1 ...     0    0    0   \n",
      "410434     1    1    1    1    1    1    1    1    1    1 ...     0    0    0   \n",
      "2123062    1    1    1    1    0    1    1    1    1    1 ...     0    0    0   \n",
      "1365004    1    0    0    1    1    0    0    1    1    1 ...     0    0    0   \n",
      "2213240    1    1    1    1    1    1    1    1    1    1 ...     0    0    0   \n",
      "...      ...  ...  ...  ...  ...  ...  ...  ...  ...  ... ...   ...  ...  ...   \n",
      "917040     0    0    0    0    0    0    0    0    0    1 ...     0    0    0   \n",
      "2583384    0    1    0    0    1    0    0    1    1    1 ...     0    0    0   \n",
      "1307371    1    1    1    1    1    1    1    1    1    1 ...     0    0    0   \n",
      "989436     0    1    1    0    1    1    1    1    1    1 ...     0    0    0   \n",
      "1470485    1    1    1    1    0    1    1    0    1    1 ...     0    0    0   \n",
      "1396025    0    0    1    1    1    1    1    1    1    0 ...     0    0    0   \n",
      "2281931    1    1    1    1    1    1    1    1    1    1 ...     0    0    0   \n",
      "1262752    0    0    0    0    0    0    0    0    0    1 ...     0    0    0   \n",
      "103355     1    0    0    1    1    1    1    1    1    1 ...     0    0    0   \n",
      "791743     1    1    1    1    1    1    1    1    1    1 ...     0    0    0   \n",
      "1825573    1    0    0    0    1    0    0    1    1    0 ...     0    0    0   \n",
      "327069     0    0    1    1    1    0    0    1    1    1 ...     0    0    0   \n",
      "1766891    0    0    0    0    0    0    0    0    1    0 ...     0    0    0   \n",
      "1370455    0    0    0    0    0    0    0    0    0    0 ...     0    0    0   \n",
      "787201     0    1    1    1    1    0    1    0    0    1 ...     0    0    0   \n",
      "329365     0    0    0    0    0    0    0    0    0    0 ...     0    0    0   \n",
      "2138242    0    1    1    1    0    1    0    0    1    1 ...     0    0    0   \n",
      "278167     0    0    0    0    0    1    0    1    1    1 ...     0    0    0   \n",
      "1239911    1    1    1    1    1    1    1    1    1    1 ...     0    0    1   \n",
      "2272355    1    1    1    1    1    1    1    1    1    0 ...     0    0    0   \n",
      "1136074    0    0    1    0    0    0    1    0    0    1 ...     0    0    0   \n",
      "2003274    0    0    0    0    0    0    0    0    1    0 ...     0    0    0   \n",
      "1570006    0    0    0    0    0    0    0    0    0    1 ...     0    0    0   \n",
      "2234489    0    0    0    0    0    0    0    0    0    0 ...     0    0    0   \n",
      "732180     1    1    0    1    0    0    0    0    1    0 ...     0    0    0   \n",
      "110268     0    0    0    0    0    0    0    0    0    0 ...     0    0    0   \n",
      "1692743    0    0    0    0    1    0    0    0    0    0 ...     0    0    0   \n",
      "2356330    1    1    0    0    1    0    1    1    1    1 ...     0    0    0   \n",
      "2229084    0    0    0    0    0    0    0    0    0    0 ...     0    0    0   \n",
      "2219110    1    1    1    1    0    1    1    1    1    1 ...     0    0    0   \n",
      "\n",
      "         184  185  186  187  188  189  190  \n",
      "1198670    0    0    0    0    0    0    0  \n",
      "903669     0    0    0    0    0    0    0  \n",
      "876483     0    0    0    0    0    0    0  \n",
      "2575945    0    0    0    0    0    0    0  \n",
      "1383711    0    1    0    0    0    0    0  \n",
      "2220028    0    0    0    0    0    0    0  \n",
      "990151     0    0    0    0    0    0    0  \n",
      "299050     0    0    0    0    0    0    0  \n",
      "1560430    0    0    0    0    0    0    0  \n",
      "2043771    1    0    0    0    0    0    0  \n",
      "2400669    0    0    0    0    0    0    0  \n",
      "2353598    0    0    0    0    0    0    0  \n",
      "417375     0    0    0    0    0    0    0  \n",
      "664865     0    0    0    0    0    0    0  \n",
      "1226278    0    0    0    0    0    0    0  \n",
      "1169658    0    0    0    0    0    0    0  \n",
      "2134660    0    0    0    0    0    0    0  \n",
      "2367408    0    0    0    0    0    0    0  \n",
      "1251123    0    0    0    0    0    0    0  \n",
      "1839208    0    0    0    0    0    0    0  \n",
      "2110345    0    0    0    0    0    0    0  \n",
      "728026     0    0    0    0    0    0    0  \n",
      "783329     0    0    0    0    0    0    0  \n",
      "25466      0    0    0    0    0    0    0  \n",
      "2493300    0    0    0    0    0    0    0  \n",
      "1893702    0    0    0    0    0    0    0  \n",
      "410434     0    0    0    0    0    0    0  \n",
      "2123062    0    0    0    0    0    0    0  \n",
      "1365004    0    0    0    0    0    0    0  \n",
      "2213240    0    0    0    0    0    0    0  \n",
      "...      ...  ...  ...  ...  ...  ...  ...  \n",
      "917040     0    0    0    0    0    0    0  \n",
      "2583384    0    0    0    0    0    0    0  \n",
      "1307371    0    0    0    0    0    0    0  \n",
      "989436     0    0    0    0    0    0    0  \n",
      "1470485    0    0    0    0    0    0    0  \n",
      "1396025    0    0    0    0    0    0    0  \n",
      "2281931    0    0    0    0    0    0    0  \n",
      "1262752    0    0    0    0    0    0    0  \n",
      "103355     0    0    0    0    0    0    0  \n",
      "791743     0    0    1    0    0    0    0  \n",
      "1825573    0    0    0    0    0    0    0  \n",
      "327069     0    0    0    0    0    0    0  \n",
      "1766891    0    0    0    0    0    0    0  \n",
      "1370455    0    0    0    0    0    0    0  \n",
      "787201     0    0    0    0    0    0    0  \n",
      "329365     0    0    0    0    0    0    0  \n",
      "2138242    0    0    0    0    0    0    0  \n",
      "278167     0    0    0    0    0    0    0  \n",
      "1239911    0    0    0    0    0    0    0  \n",
      "2272355    0    0    0    0    0    0    0  \n",
      "1136074    0    0    0    0    0    0    0  \n",
      "2003274    0    0    0    0    0    0    0  \n",
      "1570006    0    0    0    0    0    0    0  \n",
      "2234489    0    0    0    0    0    0    0  \n",
      "732180     0    0    0    0    0    0    0  \n",
      "110268     0    0    0    0    0    0    0  \n",
      "1692743    0    0    0    0    0    0    0  \n",
      "2356330    0    0    0    0    0    0    0  \n",
      "2229084    0    0    0    0    0    0    0  \n",
      "2219110    0    0    0    0    0    0    0  \n",
      "\n",
      "[1945620 rows x 191 columns]\n",
      "1198670    25\n",
      "903669     18\n",
      "876483     34\n",
      "2575945    12\n",
      "1383711    34\n",
      "2220028    10\n",
      "990151     16\n",
      "299050     11\n",
      "1560430    27\n",
      "2043771    34\n",
      "2400669     6\n",
      "2353598    30\n",
      "417375     23\n",
      "664865     22\n",
      "1226278    29\n",
      "1169658    22\n",
      "2134660    33\n",
      "2367408    16\n",
      "1251123     4\n",
      "1839208    30\n",
      "2110345    12\n",
      "728026     20\n",
      "783329     24\n",
      "25466      34\n",
      "2493300    25\n",
      "1893702    13\n",
      "410434     24\n",
      "2123062    35\n",
      "1365004    30\n",
      "2213240    30\n",
      "           ..\n",
      "917040      4\n",
      "2583384    20\n",
      "1307371    31\n",
      "989436      3\n",
      "1470485    32\n",
      "1396025    22\n",
      "2281931    23\n",
      "1262752    17\n",
      "103355     20\n",
      "791743     30\n",
      "1825573     6\n",
      "327069     17\n",
      "1766891    18\n",
      "1370455    27\n",
      "787201     23\n",
      "329365      7\n",
      "2138242    14\n",
      "278167     25\n",
      "1239911    31\n",
      "2272355    15\n",
      "1136074    34\n",
      "2003274    17\n",
      "1570006    29\n",
      "2234489    34\n",
      "732180     20\n",
      "110268     35\n",
      "1692743    21\n",
      "2356330    15\n",
      "2229084    34\n",
      "2219110    29\n",
      "Name: 191, Length: 1945620, dtype: int64\n"
     ]
    }
   ],
   "source": [
    "from sklearn.model_selection import train_test_split\n",
    "x_train, x_test, y_train, y_test = train_test_split(data[data.columns[0:191]], data[data.columns[191]], test_size=0.25, random_state=42)\n",
    "print(x_train)\n",
    "print(y_train)"
   ]
  },
  {
   "cell_type": "markdown",
   "metadata": {},
   "source": [
    "### Train ML"
   ]
  },
  {
   "cell_type": "code",
   "execution_count": 4,
   "metadata": {},
   "outputs": [
    {
     "name": "stdout",
     "output_type": "stream",
     "text": [
      "Train on 1459215 samples, validate on 486405 samples\n",
      "Epoch 1/50\n",
      "1459215/1459215 [==============================] - 147s 101us/step - loss: 2.3775 - acc: 0.3065 - val_loss: 1.6144 - val_acc: 0.4718\n",
      "Epoch 2/50\n",
      "1459215/1459215 [==============================] - 140s 96us/step - loss: 1.1953 - acc: 0.5589 - val_loss: 1.1181 - val_acc: 0.5782\n",
      "Epoch 3/50\n",
      "1459215/1459215 [==============================] - 124s 85us/step - loss: 1.0139 - acc: 0.6052 - val_loss: 1.0801 - val_acc: 0.5872\n",
      "Epoch 4/50\n",
      "1459215/1459215 [==============================] - 132s 90us/step - loss: 0.9325 - acc: 0.6350 - val_loss: 0.9573 - val_acc: 0.6281\n",
      "Epoch 5/50\n",
      "1459215/1459215 [==============================] - 137s 94us/step - loss: 0.8840 - acc: 0.6524 - val_loss: 0.9962 - val_acc: 0.6190\n",
      "Epoch 6/50\n",
      "1459215/1459215 [==============================] - 130s 89us/step - loss: 0.8509 - acc: 0.6635 - val_loss: 0.8766 - val_acc: 0.6581\n",
      "Epoch 7/50\n",
      "1459215/1459215 [==============================] - 128s 87us/step - loss: 0.8255 - acc: 0.6720 - val_loss: 0.9324 - val_acc: 0.6416\n",
      "Epoch 8/50\n",
      "1459215/1459215 [==============================] - 139s 95us/step - loss: 0.8041 - acc: 0.6791 - val_loss: 0.8570 - val_acc: 0.6651\n",
      "Epoch 9/50\n",
      "1459215/1459215 [==============================] - 130s 89us/step - loss: 0.7868 - acc: 0.6851 - val_loss: 0.8791 - val_acc: 0.6520\n",
      "Epoch 10/50\n",
      "1459215/1459215 [==============================] - 123s 84us/step - loss: 0.7719 - acc: 0.6904 - val_loss: 0.9073 - val_acc: 0.6488\n",
      "Epoch 11/50\n",
      "1459215/1459215 [==============================] - 121s 83us/step - loss: 0.7588 - acc: 0.6945 - val_loss: 0.8690 - val_acc: 0.6661\n",
      "Epoch 12/50\n",
      "1459215/1459215 [==============================] - 128s 88us/step - loss: 0.7469 - acc: 0.6990 - val_loss: 0.9327 - val_acc: 0.6491\n",
      "Epoch 13/50\n",
      "1459215/1459215 [==============================] - 138s 94us/step - loss: 0.7366 - acc: 0.7025 - val_loss: 0.8374 - val_acc: 0.6702\n",
      "Epoch 14/50\n",
      "1459215/1459215 [==============================] - 132s 90us/step - loss: 0.7275 - acc: 0.7062 - val_loss: 0.8450 - val_acc: 0.6697\n",
      "Epoch 15/50\n",
      "1459215/1459215 [==============================] - 131s 90us/step - loss: 0.7191 - acc: 0.7090 - val_loss: 0.8445 - val_acc: 0.6737\n",
      "Epoch 16/50\n",
      "1459215/1459215 [==============================] - 128s 88us/step - loss: 0.7115 - acc: 0.7123 - val_loss: 0.8045 - val_acc: 0.6843\n",
      "Epoch 17/50\n",
      "1459215/1459215 [==============================] - 135s 92us/step - loss: 0.7042 - acc: 0.7150 - val_loss: 0.7990 - val_acc: 0.6815\n",
      "Epoch 18/50\n",
      "1459215/1459215 [==============================] - 128s 88us/step - loss: 0.6972 - acc: 0.7177 - val_loss: 0.8368 - val_acc: 0.6700\n",
      "Epoch 19/50\n",
      "1459215/1459215 [==============================] - 130s 89us/step - loss: 0.6908 - acc: 0.7204 - val_loss: 0.7659 - val_acc: 0.6950\n",
      "Epoch 20/50\n",
      "1459215/1459215 [==============================] - 128s 88us/step - loss: 0.6852 - acc: 0.7225 - val_loss: 0.8165 - val_acc: 0.6751\n",
      "Epoch 21/50\n",
      "1459215/1459215 [==============================] - 134s 92us/step - loss: 0.6793 - acc: 0.7249 - val_loss: 0.7914 - val_acc: 0.6906\n",
      "Epoch 22/50\n",
      "1459215/1459215 [==============================] - 132s 90us/step - loss: 0.6738 - acc: 0.7269 - val_loss: 0.7401 - val_acc: 0.7044\n",
      "Epoch 23/50\n",
      "1459215/1459215 [==============================] - 130s 89us/step - loss: 0.6688 - acc: 0.7288 - val_loss: 0.7744 - val_acc: 0.6948\n",
      "Epoch 24/50\n",
      "1459215/1459215 [==============================] - 142s 97us/step - loss: 0.6639 - acc: 0.7309 - val_loss: 0.7583 - val_acc: 0.6970\n",
      "Epoch 25/50\n",
      "1459215/1459215 [==============================] - 137s 94us/step - loss: 0.6594 - acc: 0.7323 - val_loss: 0.7529 - val_acc: 0.7026\n",
      "Epoch 26/50\n",
      "1459215/1459215 [==============================] - 133s 91us/step - loss: 0.6548 - acc: 0.7346 - val_loss: 0.7469 - val_acc: 0.7021\n",
      "Epoch 27/50\n",
      "1459215/1459215 [==============================] - 134s 92us/step - loss: 0.6504 - acc: 0.7361 - val_loss: 0.7419 - val_acc: 0.7044\n",
      "Epoch 28/50\n",
      "1459215/1459215 [==============================] - 122s 83us/step - loss: 0.6466 - acc: 0.7379 - val_loss: 0.7548 - val_acc: 0.6998\n",
      "Epoch 29/50\n",
      "1459215/1459215 [==============================] - 123s 84us/step - loss: 0.6425 - acc: 0.7395 - val_loss: 0.7152 - val_acc: 0.7142\n",
      "Epoch 30/50\n",
      "1459215/1459215 [==============================] - 124s 85us/step - loss: 0.6389 - acc: 0.7410 - val_loss: 0.7592 - val_acc: 0.6984\n",
      "Epoch 31/50\n",
      "1459215/1459215 [==============================] - 124s 85us/step - loss: 0.6353 - acc: 0.7427 - val_loss: 0.7670 - val_acc: 0.7003\n",
      "Epoch 32/50\n",
      "1459215/1459215 [==============================] - 127s 87us/step - loss: 0.6318 - acc: 0.7437 - val_loss: 0.7267 - val_acc: 0.7110\n",
      "Epoch 33/50\n",
      "1459215/1459215 [==============================] - 140s 96us/step - loss: 0.6289 - acc: 0.7450 - val_loss: 0.7735 - val_acc: 0.6994\n",
      "Epoch 34/50\n",
      "1459215/1459215 [==============================] - 136s 93us/step - loss: 0.6256 - acc: 0.7462 - val_loss: 0.7210 - val_acc: 0.7133\n",
      "Epoch 35/50\n",
      "1459215/1459215 [==============================] - 119s 82us/step - loss: 0.6226 - acc: 0.7478 - val_loss: 0.7286 - val_acc: 0.7134\n",
      "Epoch 36/50\n",
      "1459215/1459215 [==============================] - 128s 88us/step - loss: 0.6199 - acc: 0.7487 - val_loss: 0.7066 - val_acc: 0.7202\n",
      "Epoch 37/50\n",
      "1459215/1459215 [==============================] - 122s 83us/step - loss: 0.6170 - acc: 0.7497 - val_loss: 0.7389 - val_acc: 0.7078\n",
      "Epoch 38/50\n",
      "1459215/1459215 [==============================] - 126s 86us/step - loss: 0.6145 - acc: 0.7507 - val_loss: 0.7382 - val_acc: 0.7112\n",
      "Epoch 39/50\n",
      "1459215/1459215 [==============================] - 125s 85us/step - loss: 0.6120 - acc: 0.7517 - val_loss: 0.7075 - val_acc: 0.7184\n",
      "Epoch 40/50\n",
      "1459215/1459215 [==============================] - 126s 86us/step - loss: 0.6092 - acc: 0.7531 - val_loss: 0.7418 - val_acc: 0.7087\n",
      "Epoch 41/50\n",
      "1459215/1459215 [==============================] - 129s 88us/step - loss: 0.6067 - acc: 0.7539 - val_loss: 0.7012 - val_acc: 0.7215\n",
      "Epoch 42/50\n",
      "1459215/1459215 [==============================] - 135s 92us/step - loss: 0.6044 - acc: 0.7551 - val_loss: 0.7126 - val_acc: 0.7196\n",
      "Epoch 43/50\n",
      "1459215/1459215 [==============================] - 129s 88us/step - loss: 0.6022 - acc: 0.7555 - val_loss: 0.7020 - val_acc: 0.7208\n",
      "Epoch 44/50\n",
      "1459215/1459215 [==============================] - 131s 90us/step - loss: 0.5997 - acc: 0.7564 - val_loss: 0.6905 - val_acc: 0.7246\n",
      "Epoch 45/50\n",
      "1459215/1459215 [==============================] - 118s 81us/step - loss: 0.5978 - acc: 0.7573 - val_loss: 0.7233 - val_acc: 0.7162\n",
      "Epoch 46/50\n",
      "1459215/1459215 [==============================] - 125s 86us/step - loss: 0.5957 - acc: 0.7583 - val_loss: 0.7716 - val_acc: 0.7008\n",
      "Epoch 47/50\n",
      "1459215/1459215 [==============================] - 125s 86us/step - loss: 0.5938 - acc: 0.7589 - val_loss: 0.7109 - val_acc: 0.7210\n",
      "Epoch 48/50\n",
      "1459215/1459215 [==============================] - 121s 83us/step - loss: 0.5916 - acc: 0.7597 - val_loss: 0.7049 - val_acc: 0.7231\n",
      "Epoch 49/50\n",
      "1459215/1459215 [==============================] - 131s 89us/step - loss: 0.5895 - acc: 0.7602 - val_loss: 0.6756 - val_acc: 0.7300\n",
      "Epoch 50/50\n",
      "1459215/1459215 [==============================] - 125s 86us/step - loss: 0.5878 - acc: 0.7613 - val_loss: 0.7399 - val_acc: 0.7152\n"
     ]
    }
   ],
   "source": [
    "model = keras.Sequential()\n",
    "model.add(keras.layers.Dense(191, activation='relu', input_shape=[191]))\n",
    "model.add(keras.layers.Dense(191, activation='relu'))\n",
    "model.add(keras.layers.Dense(191, activation='relu'))\n",
    "model.add(keras.layers.Dense(191, activation='relu'))\n",
    "model.add(keras.layers.Dense(191, activation='relu'))\n",
    "model.add(keras.layers.Dense(191, activation='relu'))\n",
    "model.add(keras.layers.Dense(191, activation='relu'))\n",
    "model.add(keras.layers.Dense(191, activation='relu'))\n",
    "model.add(keras.layers.Dense(191, activation='relu'))\n",
    "model.add(keras.layers.Dense(36, activation='softmax'))\n",
    "model.compile(loss='categorical_crossentropy',\n",
    "              optimizer='sgd',\n",
    "              metrics=['accuracy'])\n",
    "y_categorical = keras.utils.to_categorical(y_train)\n",
    "history = model.fit(x_train, y_categorical, validation_split=0.25, epochs=50, batch_size=100)"
   ]
  },
  {
   "cell_type": "markdown",
   "metadata": {},
   "source": [
    "### Evaluate ML"
   ]
  },
  {
   "cell_type": "code",
   "execution_count": 5,
   "metadata": {},
   "outputs": [
    {
     "name": "stdout",
     "output_type": "stream",
     "text": [
      "648540/648540 [==============================] - 27s 42us/step\n"
     ]
    },
    {
     "data": {
      "text/plain": [
       "[0.7422190812814355, 0.7134795078171918]"
      ]
     },
     "execution_count": 5,
     "metadata": {},
     "output_type": "execute_result"
    }
   ],
   "source": [
    "y_categorical_test = keras.utils.to_categorical(y_test)\n",
    "model.evaluate(x_test, y_categorical_test)"
   ]
  },
  {
   "cell_type": "code",
   "execution_count": 6,
   "metadata": {},
   "outputs": [
    {
     "data": {
      "text/plain": [
       "Text(0,0.5,'loss')"
      ]
     },
     "execution_count": 6,
     "metadata": {},
     "output_type": "execute_result"
    },
    {
     "data": {
      "image/png": "[encoded data removed]",
      "text/plain": [
       "<matplotlib.figure.Figure at 0x11c196470>"
      ]
     },
     "metadata": {},
     "output_type": "display_data"
    }
   ],
   "source": [
    "plt.plot(history.history['loss'])\n",
    "plt.title('Loss')\n",
    "plt.xlabel('epoch')\n",
    "plt.ylabel('loss')"
   ]
  },
  {
   "cell_type": "code",
   "execution_count": 7,
   "metadata": {},
   "outputs": [
    {
     "data": {
      "text/plain": [
       "<matplotlib.legend.Legend at 0x1283252e8>"
      ]
     },
     "execution_count": 7,
     "metadata": {},
     "output_type": "execute_result"
    },
    {
     "data": {
      "image/png": "[encoded data removed]",
      "text/plain": [
       "<matplotlib.figure.Figure at 0x11c196c18>"
      ]
     },
     "metadata": {},
     "output_type": "display_data"
    }
   ],
   "source": [
    "plt.plot(history.history['acc'])\n",
    "plt.plot(history.history['val_acc'])\n",
    "plt.title('Accuracy')\n",
    "plt.xlabel('epoch')\n",
    "plt.ylabel('acc')\n",
    "plt.legend(['Train', 'Val'], loc='upper left')"
   ]
  },
  {
   "cell_type": "markdown",
   "metadata": {},
   "source": [
    "### Export ML Model"
   ]
  },
  {
   "cell_type": "code",
   "execution_count": 8,
   "metadata": {},
   "outputs": [],
   "source": [
    "from tensorflow.keras.models import load_model\n",
    "model.save(path_to_data / \"final_bot_model_V7.h5\")"
   ]
  },
  {
   "cell_type": "markdown",
   "metadata": {},
   "source": [
    "### Versions\n",
    "\n",
    "| Version | CSV | epoch | Batch size | Layers                    | Loss | Acc |\n",
    "| ------- | --- | ----- | ---------- | ------------------------- | ---- | --- |\n",
    "| V1      | 1   | 100   | 1000       | 2 relu & 1 softmax        | 1.2  | 0.5 |\n",
    "| V2      | 2   | 100   | 1000       | 2 relu & 1 softmax        | 0.9  | 0.6 |\n",
    "| -       | 2   | 100   | 10000      | 2 relu & 1 softmax        | 2.8  | 0.3 |\n",
    "| V3      | 2   | 300   | 1000       | 2 relu & 1 softmax        | 0.8  | 0.6 |\n",
    "| V4      | 2   | 120   | 1000       | 3 relu & 1 softmax        | 0.92 | 0.60|\n",
    "| V5      | 2   | 120   | 1000       | 5 relu & 1 softmax        | 0.92 | 0.61|\n",
    "| V6      | 2   | 50    | 100        | 9 relu & 1 softmax        | 1.0  | 0.62| \n",
    "| V7      | 11  | 50    | 100        | 9 relu & 1 softmax        | 0.74 | 0.71| --> Wurde implementiert in JassDemo"
   ]
  },
  {
   "cell_type": "markdown",
   "metadata": {},
   "source": [
    "### Import ML Model"
   ]
  },
  {
   "cell_type": "code",
   "execution_count": null,
   "metadata": {},
   "outputs": [],
   "source": [
    "# del model\n",
    "# loaded_model = load_model(\"model_flavio.h5\")\n",
    "# loaded_model.evaluate(x_test, y_categorical_test)"
   ]
  },
  {
   "cell_type": "markdown",
   "metadata": {},
   "source": [
    "## Trump Selection ML"
   ]
  },
  {
   "cell_type": "markdown",
   "metadata": {},
   "source": [
    "### Data import "
   ]
  },
  {
   "cell_type": "code",
   "execution_count": null,
   "metadata": {},
   "outputs": [],
   "source": [
    "path_to_data = Path(\"C:\\\\Users\\\\matej\\\\Dropbox\\\\School\\\\HSLU\\\\HS18\\\\DL4G\\\\Final_Bot\\\\jass_data\\\\\")\n",
    "# Import only a fraction of data for efficient testing\n",
    "data = pd.read_csv(path_to_data / '2017_10_11_trump.csv', header=None)\n",
    "cards = [\n",
    "# Diamonds\n",
    "'DA','DK','DQ','DJ','D10','D9','D8','D7','D6',\n",
    "# Hearts\n",
    "'HA','HK','HQ','HJ','H10','H9','H8','H7','H6',\n",
    "# Spades\n",
    "'SA','SK','SQ','SJ','S10','S9','S8','S7','S6',\n",
    "# Clubs\n",
    "'CA','CK','CQ','CJ','C10','C9','C8','C7','C6'\n",
    "]\n",
    "\n",
    "# Forehand (yes = 1, no = 0)\n",
    "forehand = ['FH']\n",
    "\n",
    "user  = ['user']\n",
    "trump = ['trump']\n",
    "\n",
    "data.columns = cards + forehand + user + trump\n",
    "data_columns_train = cards + forehand\n",
    "data.drop('user', axis='columns', inplace=True)\n",
    "data.head()"
   ]
  },
  {
   "cell_type": "markdown",
   "metadata": {},
   "source": [
    "### Train & Test split"
   ]
  },
  {
   "cell_type": "code",
   "execution_count": null,
   "metadata": {},
   "outputs": [],
   "source": [
    "from sklearn.model_selection import train_test_split\n",
    "x_train, x_test, y_train, y_test = train_test_split(data[data_columns_train], data.trump, test_size=0.25,\n",
    "                                                    stratify=data.trump, random_state=42)\n",
    "print(x_train)\n",
    "print(y_train)"
   ]
  },
  {
   "cell_type": "markdown",
   "metadata": {},
   "source": [
    "### Train ML"
   ]
  },
  {
   "cell_type": "code",
   "execution_count": null,
   "metadata": {},
   "outputs": [],
   "source": [
    "model = keras.Sequential()\n",
    "model.add(keras.layers.Dense(37, activation='relu', input_shape=[37]))\n",
    "model.add(keras.layers.Dense(37, activation='relu'))\n",
    "model.add(keras.layers.Dense(37, activation='relu'))\n",
    "model.add(keras.layers.Dense(37, activation='relu'))\n",
    "model.add(keras.layers.Dense(37, activation='relu'))\n",
    "model.add(keras.layers.Dense(37, activation='relu'))\n",
    "model.add(keras.layers.Dense(37, activation='relu'))\n",
    "model.add(keras.layers.Dense(37, activation='relu'))\n",
    "model.add(keras.layers.Dense(37, activation='relu'))\n",
    "model.add(keras.layers.Dense(7, activation='softmax'))\n",
    "model.compile(loss='categorical_crossentropy',\n",
    "              optimizer='sgd',\n",
    "              metrics=['accuracy'])\n",
    "y_categorical = keras.utils.to_categorical(y_train)\n",
    "history = model.fit(x_train, y_categorical, validation_split=0.25, epochs=50, batch_size=100)"
   ]
  },
  {
   "cell_type": "markdown",
   "metadata": {},
   "source": [
    "### Evaluate ML"
   ]
  },
  {
   "cell_type": "code",
   "execution_count": null,
   "metadata": {},
   "outputs": [],
   "source": [
    "y_categorical_test = keras.utils.to_categorical(y_test)\n",
    "model.evaluate(x_test, y_categorical_test)"
   ]
  },
  {
   "cell_type": "code",
   "execution_count": null,
   "metadata": {},
   "outputs": [],
   "source": [
    "plt.plot(history.history['loss'])\n",
    "plt.title('Loss')\n",
    "plt.xlabel('epoch')\n",
    "plt.ylabel('loss')"
   ]
  },
  {
   "cell_type": "code",
   "execution_count": null,
   "metadata": {},
   "outputs": [],
   "source": [
    "plt.plot(history.history['acc'])\n",
    "plt.plot(history.history['val_acc'])\n",
    "plt.title('Accuracy')\n",
    "plt.xlabel('epoch')\n",
    "plt.ylabel('acc')\n",
    "plt.legend(['Train', 'Val'], loc='upper left')"
   ]
  },
  {
   "cell_type": "markdown",
   "metadata": {},
   "source": [
    "### Export Model"
   ]
  },
  {
   "cell_type": "code",
   "execution_count": 32,
   "metadata": {},
   "outputs": [],
   "source": [
    "from tensorflow.keras.models import load_model\n",
    "model.save(path_to_data / \"final_bot_trump_model_V1.h5\")"
   ]
  },
  {
   "cell_type": "markdown",
   "metadata": {},
   "source": [
    "### Versions\n",
    "\n",
    "| Version | CSV | epoch | Batch size | Layers                    | Loss | Acc |\n",
    "| ------- | --- | ----- | ---------- | ------------------------- | ---- | --- |\n",
    "| V1      | 1   | 2000  | 1000       | 2 relu & 1 softmax        | -    | 0.8 |\n",
    "| V2      | 1   | 2000  | 10000      | 2 relu & 1 softmax        | 0.53 | 0.79|\n",
    "| V3      | 1   | 500   | 10000      | 3 relu & 1 softmax        | 0.59 | 0.77|\n",
    "| V4      | 1   | 500   | 10000      | 4 relu & 1 softmax        | 0.52 | 0.79| --> Wurde implementiert in JassDemo\n",
    "| V5      | 1   | 200   | 1000       | 6 relu & 1 softmax        | 0.53 | 0.78|\n",
    "| V6      | 1   | 150   | 100        | 6 relu & 1 softmax        | 0.52 | 0.79| \n",
    "| V7      | 1   | 50    | 100        | 8 relu & 1 softmax        | 0.54 | 0.78|"
   ]
  },
  {
   "cell_type": "markdown",
   "metadata": {},
   "source": [
    "### Import ML Model"
   ]
  },
  {
   "cell_type": "code",
   "execution_count": 36,
   "metadata": {},
   "outputs": [],
   "source": [
    "# del model\n",
    "# loaded_model = load_model(\"model_flavio.h5\")\n",
    "# loaded_model.evaluate(x_test, y_categorical_test)"
   ]
  }
 ],
 "metadata": {
  "kernelspec": {
   "display_name": "Python 3",
   "language": "python",
   "name": "python3"
  },
  "language_info": {
   "codemirror_mode": {
    "name": "ipython",
    "version": 3
   },
   "file_extension": ".py",
   "mimetype": "text/x-python",
   "name": "python",
   "nbconvert_exporter": "python",
   "pygments_lexer": "ipython3",
   "version": "3.6.4"
  }
 },
 "nbformat": 4,
 "nbformat_minor": 2
}
